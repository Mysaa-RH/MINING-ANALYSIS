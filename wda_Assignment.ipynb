{
 "cells": [
  {
   "cell_type": "markdown",
   "id": "457a5c04",
   "metadata": {},
   "source": [
    "# MWS- WDA-Project \n",
    "\n",
    "## Homework Assignment: Data Analysis Using Python"
   ]
  },
  {
   "cell_type": "code",
   "execution_count": 94,
   "id": "casual-gibraltar",
   "metadata": {},
   "outputs": [],
   "source": [
    "# Import libraries\n",
    "import pandas as pd\n",
    "import matplotlib.pyplot as plt\n",
    "pd.set_option('display.max_columns', None)\n"
   ]
  },
  {
   "cell_type": "markdown",
   "id": "6b47e576",
   "metadata": {},
   "source": [
    "## 1. Load the dataset into a Pandas DataFrame and perform any necessary data cleaning, such as handling missing values and converting data types."
   ]
  },
  {
   "cell_type": "markdown",
   "id": "a1aa2f66",
   "metadata": {},
   "source": [
    "### Load the dataset into a Pandas DataFrame"
   ]
  },
  {
   "cell_type": "code",
   "execution_count": 95,
   "id": "civic-collapse",
   "metadata": {},
   "outputs": [
    {
     "data": {
      "text/html": [
       "<div>\n",
       "<style scoped>\n",
       "    .dataframe tbody tr th:only-of-type {\n",
       "        vertical-align: middle;\n",
       "    }\n",
       "\n",
       "    .dataframe tbody tr th {\n",
       "        vertical-align: top;\n",
       "    }\n",
       "\n",
       "    .dataframe thead th {\n",
       "        text-align: right;\n",
       "    }\n",
       "</style>\n",
       "<table border=\"1\" class=\"dataframe\">\n",
       "  <thead>\n",
       "    <tr style=\"text-align: right;\">\n",
       "      <th></th>\n",
       "      <th>ORDERNUMBER</th>\n",
       "      <th>QUANTITYORDERED</th>\n",
       "      <th>PRICEEACH</th>\n",
       "      <th>ORDERLINENUMBER</th>\n",
       "      <th>SALES</th>\n",
       "      <th>ORDERDATE</th>\n",
       "      <th>STATUS</th>\n",
       "      <th>QTR_ID</th>\n",
       "      <th>MONTH_ID</th>\n",
       "      <th>YEAR_ID</th>\n",
       "      <th>PRODUCTLINE</th>\n",
       "      <th>MSRP</th>\n",
       "      <th>PRODUCTCODE</th>\n",
       "      <th>CUSTOMERNAME</th>\n",
       "      <th>PHONE</th>\n",
       "      <th>ADDRESSLINE1</th>\n",
       "      <th>ADDRESSLINE2</th>\n",
       "      <th>CITY</th>\n",
       "      <th>STATE</th>\n",
       "      <th>POSTALCODE</th>\n",
       "      <th>COUNTRY</th>\n",
       "      <th>TERRITORY</th>\n",
       "      <th>CONTACTLASTNAME</th>\n",
       "      <th>CONTACTFIRSTNAME</th>\n",
       "      <th>DEALSIZE</th>\n",
       "    </tr>\n",
       "  </thead>\n",
       "  <tbody>\n",
       "    <tr>\n",
       "      <th>0</th>\n",
       "      <td>10107</td>\n",
       "      <td>30</td>\n",
       "      <td>95.70</td>\n",
       "      <td>2</td>\n",
       "      <td>2871.00</td>\n",
       "      <td>2/24/2003 0:00</td>\n",
       "      <td>Shipped</td>\n",
       "      <td>1</td>\n",
       "      <td>2</td>\n",
       "      <td>2003</td>\n",
       "      <td>Motorcycles</td>\n",
       "      <td>95</td>\n",
       "      <td>S10_1678</td>\n",
       "      <td>Land of Toys Inc.</td>\n",
       "      <td>2125557818</td>\n",
       "      <td>897 Long Airport Avenue</td>\n",
       "      <td>NaN</td>\n",
       "      <td>NYC</td>\n",
       "      <td>NY</td>\n",
       "      <td>10022</td>\n",
       "      <td>USA</td>\n",
       "      <td>NaN</td>\n",
       "      <td>Yu</td>\n",
       "      <td>Kwai</td>\n",
       "      <td>Small</td>\n",
       "    </tr>\n",
       "    <tr>\n",
       "      <th>1</th>\n",
       "      <td>10121</td>\n",
       "      <td>34</td>\n",
       "      <td>81.35</td>\n",
       "      <td>5</td>\n",
       "      <td>2765.90</td>\n",
       "      <td>5/7/2003 0:00</td>\n",
       "      <td>Shipped</td>\n",
       "      <td>2</td>\n",
       "      <td>5</td>\n",
       "      <td>2003</td>\n",
       "      <td>Motorcycles</td>\n",
       "      <td>95</td>\n",
       "      <td>S10_1678</td>\n",
       "      <td>Reims Collectables</td>\n",
       "      <td>26.47.1555</td>\n",
       "      <td>59 rue de l'Abbaye</td>\n",
       "      <td>NaN</td>\n",
       "      <td>Reims</td>\n",
       "      <td>NaN</td>\n",
       "      <td>51100</td>\n",
       "      <td>France</td>\n",
       "      <td>EMEA</td>\n",
       "      <td>Henriot</td>\n",
       "      <td>Paul</td>\n",
       "      <td>Small</td>\n",
       "    </tr>\n",
       "    <tr>\n",
       "      <th>2</th>\n",
       "      <td>10134</td>\n",
       "      <td>41</td>\n",
       "      <td>94.74</td>\n",
       "      <td>2</td>\n",
       "      <td>3884.34</td>\n",
       "      <td>7/1/2003 0:00</td>\n",
       "      <td>Shipped</td>\n",
       "      <td>3</td>\n",
       "      <td>7</td>\n",
       "      <td>2003</td>\n",
       "      <td>Motorcycles</td>\n",
       "      <td>95</td>\n",
       "      <td>S10_1678</td>\n",
       "      <td>Lyon Souveniers</td>\n",
       "      <td>+33 1 46 62 7555</td>\n",
       "      <td>27 rue du Colonel Pierre Avia</td>\n",
       "      <td>NaN</td>\n",
       "      <td>Paris</td>\n",
       "      <td>NaN</td>\n",
       "      <td>75508</td>\n",
       "      <td>France</td>\n",
       "      <td>EMEA</td>\n",
       "      <td>Da Cunha</td>\n",
       "      <td>Daniel</td>\n",
       "      <td>Medium</td>\n",
       "    </tr>\n",
       "    <tr>\n",
       "      <th>3</th>\n",
       "      <td>10145</td>\n",
       "      <td>45</td>\n",
       "      <td>83.26</td>\n",
       "      <td>6</td>\n",
       "      <td>3746.70</td>\n",
       "      <td>8/25/2003 0:00</td>\n",
       "      <td>Shipped</td>\n",
       "      <td>3</td>\n",
       "      <td>8</td>\n",
       "      <td>2003</td>\n",
       "      <td>Motorcycles</td>\n",
       "      <td>95</td>\n",
       "      <td>S10_1678</td>\n",
       "      <td>Toys4GrownUps.com</td>\n",
       "      <td>6265557265</td>\n",
       "      <td>78934 Hillside Dr.</td>\n",
       "      <td>NaN</td>\n",
       "      <td>Pasadena</td>\n",
       "      <td>CA</td>\n",
       "      <td>90003</td>\n",
       "      <td>USA</td>\n",
       "      <td>NaN</td>\n",
       "      <td>Young</td>\n",
       "      <td>Julie</td>\n",
       "      <td>Medium</td>\n",
       "    </tr>\n",
       "    <tr>\n",
       "      <th>4</th>\n",
       "      <td>10159</td>\n",
       "      <td>49</td>\n",
       "      <td>100.00</td>\n",
       "      <td>14</td>\n",
       "      <td>5205.27</td>\n",
       "      <td>10/10/2003 0:00</td>\n",
       "      <td>Shipped</td>\n",
       "      <td>4</td>\n",
       "      <td>10</td>\n",
       "      <td>2003</td>\n",
       "      <td>Motorcycles</td>\n",
       "      <td>95</td>\n",
       "      <td>S10_1678</td>\n",
       "      <td>Corporate Gift Ideas Co.</td>\n",
       "      <td>6505551386</td>\n",
       "      <td>7734 Strong St.</td>\n",
       "      <td>NaN</td>\n",
       "      <td>San Francisco</td>\n",
       "      <td>CA</td>\n",
       "      <td>NaN</td>\n",
       "      <td>USA</td>\n",
       "      <td>NaN</td>\n",
       "      <td>Brown</td>\n",
       "      <td>Julie</td>\n",
       "      <td>Medium</td>\n",
       "    </tr>\n",
       "  </tbody>\n",
       "</table>\n",
       "</div>"
      ],
      "text/plain": [
       "   ORDERNUMBER  QUANTITYORDERED  PRICEEACH  ORDERLINENUMBER    SALES  \\\n",
       "0        10107               30      95.70                2  2871.00   \n",
       "1        10121               34      81.35                5  2765.90   \n",
       "2        10134               41      94.74                2  3884.34   \n",
       "3        10145               45      83.26                6  3746.70   \n",
       "4        10159               49     100.00               14  5205.27   \n",
       "\n",
       "         ORDERDATE   STATUS  QTR_ID  MONTH_ID  YEAR_ID  PRODUCTLINE  MSRP  \\\n",
       "0   2/24/2003 0:00  Shipped       1         2     2003  Motorcycles    95   \n",
       "1    5/7/2003 0:00  Shipped       2         5     2003  Motorcycles    95   \n",
       "2    7/1/2003 0:00  Shipped       3         7     2003  Motorcycles    95   \n",
       "3   8/25/2003 0:00  Shipped       3         8     2003  Motorcycles    95   \n",
       "4  10/10/2003 0:00  Shipped       4        10     2003  Motorcycles    95   \n",
       "\n",
       "  PRODUCTCODE              CUSTOMERNAME             PHONE  \\\n",
       "0    S10_1678         Land of Toys Inc.        2125557818   \n",
       "1    S10_1678        Reims Collectables        26.47.1555   \n",
       "2    S10_1678           Lyon Souveniers  +33 1 46 62 7555   \n",
       "3    S10_1678         Toys4GrownUps.com        6265557265   \n",
       "4    S10_1678  Corporate Gift Ideas Co.        6505551386   \n",
       "\n",
       "                    ADDRESSLINE1 ADDRESSLINE2           CITY STATE POSTALCODE  \\\n",
       "0        897 Long Airport Avenue          NaN            NYC    NY      10022   \n",
       "1             59 rue de l'Abbaye          NaN          Reims   NaN      51100   \n",
       "2  27 rue du Colonel Pierre Avia          NaN          Paris   NaN      75508   \n",
       "3             78934 Hillside Dr.          NaN       Pasadena    CA      90003   \n",
       "4                7734 Strong St.          NaN  San Francisco    CA        NaN   \n",
       "\n",
       "  COUNTRY TERRITORY CONTACTLASTNAME CONTACTFIRSTNAME DEALSIZE  \n",
       "0     USA       NaN              Yu             Kwai    Small  \n",
       "1  France      EMEA         Henriot             Paul    Small  \n",
       "2  France      EMEA        Da Cunha           Daniel   Medium  \n",
       "3     USA       NaN           Young            Julie   Medium  \n",
       "4     USA       NaN           Brown            Julie   Medium  "
      ]
     },
     "metadata": {},
     "output_type": "display_data"
    },
    {
     "name": "stdout",
     "output_type": "stream",
     "text": [
      "shape (2823, 25)\n"
     ]
    }
   ],
   "source": [
    "# Load the dataset\n",
    "df = pd.read_csv('sales_data_sample.csv', encoding='unicode_escape')\n",
    "display(df.head(5))\n",
    "print(\"shape\",df.shape)"
   ]
  },
  {
   "cell_type": "code",
   "execution_count": 96,
   "id": "6632c578",
   "metadata": {},
   "outputs": [
    {
     "data": {
      "text/html": [
       "<div>\n",
       "<style scoped>\n",
       "    .dataframe tbody tr th:only-of-type {\n",
       "        vertical-align: middle;\n",
       "    }\n",
       "\n",
       "    .dataframe tbody tr th {\n",
       "        vertical-align: top;\n",
       "    }\n",
       "\n",
       "    .dataframe thead th {\n",
       "        text-align: right;\n",
       "    }\n",
       "</style>\n",
       "<table border=\"1\" class=\"dataframe\">\n",
       "  <thead>\n",
       "    <tr style=\"text-align: right;\">\n",
       "      <th></th>\n",
       "      <th>MONTH_ID</th>\n",
       "      <th>YEAR_ID</th>\n",
       "      <th>ORDERDATE</th>\n",
       "    </tr>\n",
       "  </thead>\n",
       "  <tbody>\n",
       "    <tr>\n",
       "      <th>0</th>\n",
       "      <td>2</td>\n",
       "      <td>2003</td>\n",
       "      <td>2/24/2003 0:00</td>\n",
       "    </tr>\n",
       "    <tr>\n",
       "      <th>1</th>\n",
       "      <td>5</td>\n",
       "      <td>2003</td>\n",
       "      <td>5/7/2003 0:00</td>\n",
       "    </tr>\n",
       "    <tr>\n",
       "      <th>2</th>\n",
       "      <td>7</td>\n",
       "      <td>2003</td>\n",
       "      <td>7/1/2003 0:00</td>\n",
       "    </tr>\n",
       "    <tr>\n",
       "      <th>3</th>\n",
       "      <td>8</td>\n",
       "      <td>2003</td>\n",
       "      <td>8/25/2003 0:00</td>\n",
       "    </tr>\n",
       "    <tr>\n",
       "      <th>4</th>\n",
       "      <td>10</td>\n",
       "      <td>2003</td>\n",
       "      <td>10/10/2003 0:00</td>\n",
       "    </tr>\n",
       "    <tr>\n",
       "      <th>...</th>\n",
       "      <td>...</td>\n",
       "      <td>...</td>\n",
       "      <td>...</td>\n",
       "    </tr>\n",
       "    <tr>\n",
       "      <th>2818</th>\n",
       "      <td>12</td>\n",
       "      <td>2004</td>\n",
       "      <td>12/2/2004 0:00</td>\n",
       "    </tr>\n",
       "    <tr>\n",
       "      <th>2819</th>\n",
       "      <td>1</td>\n",
       "      <td>2005</td>\n",
       "      <td>1/31/2005 0:00</td>\n",
       "    </tr>\n",
       "    <tr>\n",
       "      <th>2820</th>\n",
       "      <td>3</td>\n",
       "      <td>2005</td>\n",
       "      <td>3/1/2005 0:00</td>\n",
       "    </tr>\n",
       "    <tr>\n",
       "      <th>2821</th>\n",
       "      <td>3</td>\n",
       "      <td>2005</td>\n",
       "      <td>3/28/2005 0:00</td>\n",
       "    </tr>\n",
       "    <tr>\n",
       "      <th>2822</th>\n",
       "      <td>5</td>\n",
       "      <td>2005</td>\n",
       "      <td>5/6/2005 0:00</td>\n",
       "    </tr>\n",
       "  </tbody>\n",
       "</table>\n",
       "<p>2823 rows × 3 columns</p>\n",
       "</div>"
      ],
      "text/plain": [
       "      MONTH_ID  YEAR_ID        ORDERDATE\n",
       "0            2     2003   2/24/2003 0:00\n",
       "1            5     2003    5/7/2003 0:00\n",
       "2            7     2003    7/1/2003 0:00\n",
       "3            8     2003   8/25/2003 0:00\n",
       "4           10     2003  10/10/2003 0:00\n",
       "...        ...      ...              ...\n",
       "2818        12     2004   12/2/2004 0:00\n",
       "2819         1     2005   1/31/2005 0:00\n",
       "2820         3     2005    3/1/2005 0:00\n",
       "2821         3     2005   3/28/2005 0:00\n",
       "2822         5     2005    5/6/2005 0:00\n",
       "\n",
       "[2823 rows x 3 columns]"
      ]
     },
     "metadata": {},
     "output_type": "display_data"
    },
    {
     "name": "stdout",
     "output_type": "stream",
     "text": [
      "2004    1345\n",
      "2003    1000\n",
      "2005     478\n",
      "Name: YEAR_ID, dtype: int64\n"
     ]
    }
   ],
   "source": [
    "display(df[[\"MONTH_ID\",\"YEAR_ID\",\"ORDERDATE\"]])\n",
    "print(df[\"YEAR_ID\"].value_counts())\n"
   ]
  },
  {
   "cell_type": "code",
   "execution_count": 97,
   "id": "electronic-probability",
   "metadata": {},
   "outputs": [
    {
     "data": {
      "text/plain": [
       "(2823, 25)"
      ]
     },
     "execution_count": 97,
     "metadata": {},
     "output_type": "execute_result"
    }
   ],
   "source": [
    "df.shape"
   ]
  },
  {
   "cell_type": "code",
   "execution_count": 98,
   "id": "indoor-river",
   "metadata": {},
   "outputs": [
    {
     "data": {
      "text/plain": [
       "ORDERNUMBER            0\n",
       "QUANTITYORDERED        0\n",
       "PRICEEACH              0\n",
       "ORDERLINENUMBER        0\n",
       "SALES                  0\n",
       "ORDERDATE              0\n",
       "STATUS                 0\n",
       "QTR_ID                 0\n",
       "MONTH_ID               0\n",
       "YEAR_ID                0\n",
       "PRODUCTLINE            0\n",
       "MSRP                   0\n",
       "PRODUCTCODE            0\n",
       "CUSTOMERNAME           0\n",
       "PHONE                  0\n",
       "ADDRESSLINE1           0\n",
       "ADDRESSLINE2        2521\n",
       "CITY                   0\n",
       "STATE               1486\n",
       "POSTALCODE            76\n",
       "COUNTRY                0\n",
       "TERRITORY           1074\n",
       "CONTACTLASTNAME        0\n",
       "CONTACTFIRSTNAME       0\n",
       "DEALSIZE               0\n",
       "dtype: int64"
      ]
     },
     "metadata": {},
     "output_type": "display_data"
    }
   ],
   "source": [
    "# Check for missing values\n",
    "display(df.isnull().sum())"
   ]
  },
  {
   "cell_type": "markdown",
   "id": "f8f0cf6b",
   "metadata": {},
   "source": [
    "### we will remove the Column AddressLine2, POSTALCODE,STATE, and TERRITORY becuase it has null values.\n"
   ]
  },
  {
   "cell_type": "code",
   "execution_count": 99,
   "id": "determined-builder",
   "metadata": {},
   "outputs": [
    {
     "data": {
      "text/plain": [
       "(2823, 21)"
      ]
     },
     "execution_count": 99,
     "metadata": {},
     "output_type": "execute_result"
    }
   ],
   "source": [
    "# Drop rows with missing values\n",
    "df = df.drop('TERRITORY', axis=1)\n",
    "df = df.drop('STATE', axis=1)\n",
    "df = df.drop('ADDRESSLINE2', axis=1)\n",
    "df = df.drop(\"POSTALCODE\",axis=1)\n",
    "df.shape"
   ]
  },
  {
   "cell_type": "code",
   "execution_count": 100,
   "id": "a8d9e0fc",
   "metadata": {},
   "outputs": [
    {
     "name": "stdout",
     "output_type": "stream",
     "text": [
      "<class 'pandas.core.frame.DataFrame'>\n",
      "RangeIndex: 2823 entries, 0 to 2822\n",
      "Data columns (total 21 columns):\n",
      " #   Column            Non-Null Count  Dtype  \n",
      "---  ------            --------------  -----  \n",
      " 0   ORDERNUMBER       2823 non-null   int64  \n",
      " 1   QUANTITYORDERED   2823 non-null   int64  \n",
      " 2   PRICEEACH         2823 non-null   float64\n",
      " 3   ORDERLINENUMBER   2823 non-null   int64  \n",
      " 4   SALES             2823 non-null   float64\n",
      " 5   ORDERDATE         2823 non-null   object \n",
      " 6   STATUS            2823 non-null   object \n",
      " 7   QTR_ID            2823 non-null   int64  \n",
      " 8   MONTH_ID          2823 non-null   int64  \n",
      " 9   YEAR_ID           2823 non-null   int64  \n",
      " 10  PRODUCTLINE       2823 non-null   object \n",
      " 11  MSRP              2823 non-null   int64  \n",
      " 12  PRODUCTCODE       2823 non-null   object \n",
      " 13  CUSTOMERNAME      2823 non-null   object \n",
      " 14  PHONE             2823 non-null   object \n",
      " 15  ADDRESSLINE1      2823 non-null   object \n",
      " 16  CITY              2823 non-null   object \n",
      " 17  COUNTRY           2823 non-null   object \n",
      " 18  CONTACTLASTNAME   2823 non-null   object \n",
      " 19  CONTACTFIRSTNAME  2823 non-null   object \n",
      " 20  DEALSIZE          2823 non-null   object \n",
      "dtypes: float64(2), int64(7), object(12)\n",
      "memory usage: 463.3+ KB\n"
     ]
    }
   ],
   "source": [
    "df.info()"
   ]
  },
  {
   "cell_type": "markdown",
   "id": "66929fd6",
   "metadata": {},
   "source": [
    "### change the datatype of columns"
   ]
  },
  {
   "cell_type": "code",
   "execution_count": 101,
   "id": "hungarian-volunteer",
   "metadata": {},
   "outputs": [],
   "source": [
    "# Convert data types\n",
    "df['ORDERDATE'] = pd.to_datetime(df['ORDERDATE'])\n",
    "df['PRICEEACH'] = pd.to_numeric(df['PRICEEACH'])\n",
    "df['QUANTITYORDERED'] = pd.to_numeric(df['QUANTITYORDERED'])"
   ]
  },
  {
   "cell_type": "markdown",
   "id": "07d8cb4a",
   "metadata": {},
   "source": [
    "## 2. Compute the following metrics for each product:"
   ]
  },
  {
   "cell_type": "markdown",
   "id": "7f0a1b2b",
   "metadata": {},
   "source": [
    "### Total revenue generated."
   ]
  },
  {
   "cell_type": "code",
   "execution_count": 102,
   "id": "3a699eda",
   "metadata": {},
   "outputs": [
    {
     "data": {
      "text/plain": [
       "Shipped       2617\n",
       "Cancelled       60\n",
       "Resolved        47\n",
       "On Hold         44\n",
       "In Process      41\n",
       "Disputed        14\n",
       "Name: STATUS, dtype: int64"
      ]
     },
     "metadata": {},
     "output_type": "display_data"
    }
   ],
   "source": [
    "display(df[\"STATUS\"].value_counts())"
   ]
  },
  {
   "cell_type": "code",
   "execution_count": 103,
   "id": "de0cff7c",
   "metadata": {},
   "outputs": [
    {
     "data": {
      "text/plain": [
       "S18_3232    52\n",
       "S10_1949    28\n",
       "S24_1444    28\n",
       "S10_4962    28\n",
       "S24_2840    28\n",
       "            ..\n",
       "S18_1749    22\n",
       "S24_2887    22\n",
       "S24_3969    22\n",
       "S18_4409    22\n",
       "S18_4933    22\n",
       "Name: PRODUCTCODE, Length: 109, dtype: int64"
      ]
     },
     "execution_count": 103,
     "metadata": {},
     "output_type": "execute_result"
    }
   ],
   "source": [
    "df[\"PRODUCTCODE\"].value_counts()"
   ]
  },
  {
   "cell_type": "markdown",
   "id": "1b58698e",
   "metadata": {},
   "source": [
    "<span style=\"color:red;font-size:20px\"> we will assume that only \"shipped status orders\" return a revenue to the company</span>"
   ]
  },
  {
   "cell_type": "code",
   "execution_count": 123,
   "id": "1c97722d",
   "metadata": {},
   "outputs": [
    {
     "data": {
      "text/plain": [
       "'shape of shipped orders dataframe'"
      ]
     },
     "metadata": {},
     "output_type": "display_data"
    },
    {
     "data": {
      "text/plain": [
       "(2617, 21)"
      ]
     },
     "metadata": {},
     "output_type": "display_data"
    }
   ],
   "source": [
    "df_shipped_orders= df[df[\"STATUS\"]==\"Shipped\"]\n",
    "display(\"shape of shipped orders dataframe\",df_shipped_orders.shape)"
   ]
  },
  {
   "cell_type": "markdown",
   "id": "dc72b23e",
   "metadata": {},
   "source": [
    "<h3>Find :</h3>\n",
    "<ul style=\"font-weight:bold;font-size:15px\"> \n",
    "    <li>Total units sold.</li>\n",
    "    <li> Average price per unit.</li>\n",
    "    <li>Total number of orders.</li>\n",
    "</ul>"
   ]
  },
  {
   "cell_type": "code",
   "execution_count": 108,
   "id": "convertible-skating",
   "metadata": {},
   "outputs": [],
   "source": [
    "# Compute metrics for each product\n",
    "product_metrics = df_shipped_orders.groupby('PRODUCTCODE').agg({\n",
    "    'PRICEEACH': 'mean',\n",
    "    'QUANTITYORDERED': 'sum',\n",
    "    'ORDERNUMBER': 'count',\n",
    "    'SALES': 'sum'\n",
    "})"
   ]
  },
  {
   "cell_type": "code",
   "execution_count": 109,
   "id": "worthy-replacement",
   "metadata": {},
   "outputs": [],
   "source": [
    "# Rename columns\n",
    "product_metrics.rename(columns={\n",
    "    'PRICEEACH': 'AVG_PRICE',\n",
    "    'QUANTITYORDERED': 'UNITS_SOLD',\n",
    "    'ORDERNUMBER': 'NUM_ORDERS',\n",
    "    'SALES': 'TOTAL_REVENUE'\n",
    "}, inplace=True)"
   ]
  },
  {
   "cell_type": "code",
   "execution_count": 110,
   "id": "available-carroll",
   "metadata": {},
   "outputs": [
    {
     "data": {
      "image/png": "[encoded data removed]",
      "text/plain": [
       "<Figure size 1080x720 with 1 Axes>"
      ]
     },
     "metadata": {
      "needs_background": "light"
     },
     "output_type": "display_data"
    },
    {
     "data": {
      "text/html": [
       "<div>\n",
       "<style scoped>\n",
       "    .dataframe tbody tr th:only-of-type {\n",
       "        vertical-align: middle;\n",
       "    }\n",
       "\n",
       "    .dataframe tbody tr th {\n",
       "        vertical-align: top;\n",
       "    }\n",
       "\n",
       "    .dataframe thead th {\n",
       "        text-align: right;\n",
       "    }\n",
       "</style>\n",
       "<table border=\"1\" class=\"dataframe\">\n",
       "  <thead>\n",
       "    <tr style=\"text-align: right;\">\n",
       "      <th></th>\n",
       "      <th>AVG_PRICE</th>\n",
       "      <th>UNITS_SOLD</th>\n",
       "      <th>NUM_ORDERS</th>\n",
       "      <th>TOTAL_REVENUE</th>\n",
       "    </tr>\n",
       "    <tr>\n",
       "      <th>PRODUCTCODE</th>\n",
       "      <th></th>\n",
       "      <th></th>\n",
       "      <th></th>\n",
       "      <th></th>\n",
       "    </tr>\n",
       "  </thead>\n",
       "  <tbody>\n",
       "    <tr>\n",
       "      <th>S18_3232</th>\n",
       "      <td>98.986531</td>\n",
       "      <td>1686</td>\n",
       "      <td>49</td>\n",
       "      <td>274799.86</td>\n",
       "    </tr>\n",
       "    <tr>\n",
       "      <th>S10_1949</th>\n",
       "      <td>100.000000</td>\n",
       "      <td>911</td>\n",
       "      <td>27</td>\n",
       "      <td>179072.03</td>\n",
       "    </tr>\n",
       "    <tr>\n",
       "      <th>S12_1108</th>\n",
       "      <td>93.950000</td>\n",
       "      <td>973</td>\n",
       "      <td>26</td>\n",
       "      <td>168585.32</td>\n",
       "    </tr>\n",
       "    <tr>\n",
       "      <th>S10_4698</th>\n",
       "      <td>98.537600</td>\n",
       "      <td>865</td>\n",
       "      <td>25</td>\n",
       "      <td>161182.91</td>\n",
       "    </tr>\n",
       "    <tr>\n",
       "      <th>S18_2238</th>\n",
       "      <td>99.538462</td>\n",
       "      <td>938</td>\n",
       "      <td>26</td>\n",
       "      <td>149305.91</td>\n",
       "    </tr>\n",
       "    <tr>\n",
       "      <th>S12_3891</th>\n",
       "      <td>96.954615</td>\n",
       "      <td>921</td>\n",
       "      <td>26</td>\n",
       "      <td>145332.04</td>\n",
       "    </tr>\n",
       "    <tr>\n",
       "      <th>S12_2823</th>\n",
       "      <td>99.156800</td>\n",
       "      <td>943</td>\n",
       "      <td>25</td>\n",
       "      <td>136558.38</td>\n",
       "    </tr>\n",
       "    <tr>\n",
       "      <th>S24_3856</th>\n",
       "      <td>97.994231</td>\n",
       "      <td>1013</td>\n",
       "      <td>26</td>\n",
       "      <td>135478.90</td>\n",
       "    </tr>\n",
       "    <tr>\n",
       "      <th>S18_4027</th>\n",
       "      <td>100.000000</td>\n",
       "      <td>922</td>\n",
       "      <td>26</td>\n",
       "      <td>133779.35</td>\n",
       "    </tr>\n",
       "    <tr>\n",
       "      <th>S12_1099</th>\n",
       "      <td>96.314583</td>\n",
       "      <td>814</td>\n",
       "      <td>24</td>\n",
       "      <td>133254.45</td>\n",
       "    </tr>\n",
       "  </tbody>\n",
       "</table>\n",
       "</div>"
      ],
      "text/plain": [
       "              AVG_PRICE  UNITS_SOLD  NUM_ORDERS  TOTAL_REVENUE\n",
       "PRODUCTCODE                                                   \n",
       "S18_3232      98.986531        1686          49      274799.86\n",
       "S10_1949     100.000000         911          27      179072.03\n",
       "S12_1108      93.950000         973          26      168585.32\n",
       "S10_4698      98.537600         865          25      161182.91\n",
       "S18_2238      99.538462         938          26      149305.91\n",
       "S12_3891      96.954615         921          26      145332.04\n",
       "S12_2823      99.156800         943          25      136558.38\n",
       "S24_3856      97.994231        1013          26      135478.90\n",
       "S18_4027     100.000000         922          26      133779.35\n",
       "S12_1099      96.314583         814          24      133254.45"
      ]
     },
     "metadata": {},
     "output_type": "display_data"
    }
   ],
   "source": [
    "# Rank products by total revenue generated\n",
    "product_metrics.sort_values('TOTAL_REVENUE', ascending=False, inplace=True)\n",
    "product_metrics[\"UNITS_SOLD\"].plot(kind='area',figsize=(15,10),)\n",
    "plt.xlabel('PRODUCTCODE')\n",
    "plt.ylabel('UNITS_SOLD')\n",
    "plt.title('Units sold by product')\n",
    "plt.show()\n",
    "# Print the ranking and recommend products to focus on\n",
    "display(product_metrics.head(10))"
   ]
  },
  {
   "cell_type": "markdown",
   "id": "03ee0939",
   "metadata": {},
   "source": [
    "<br>\n",
    "<h2 style=\"color:green;font-size:20px;font-weight:bold\">\n",
    "    \n",
    "We Find that The Product S18_3232 has the highest number of unites sales and highest in the Total GROSS Revenue \n",
    "    the previous table shows the top 10 highest gross revenue per product.\n",
    "    \n",
    "</h2>\n",
    "<br>"
   ]
  },
  {
   "cell_type": "code",
   "execution_count": 115,
   "id": "mental-tennis",
   "metadata": {},
   "outputs": [],
   "source": [
    "# Compute metrics for each month\n",
    "monthly_metrics = df_shipped_orders.groupby(df['ORDERDATE'].dt.to_period('M')).agg({\n",
    "    'PRICEEACH': 'mean',\n",
    "    'QUANTITYORDERED': 'sum',\n",
    "    'SALES': 'sum'\n",
    "})\n",
    "# Rename columns\n",
    "monthly_metrics.rename(columns={\n",
    "    'PRICEEACH': 'AVG_PRICE',\n",
    "    'QUANTITYORDERED': 'UNITS_SOLD',\n",
    "    'SALES': 'TOTAL_REVENUE'\n",
    "}, inplace=True)"
   ]
  },
  {
   "cell_type": "code",
   "execution_count": 139,
   "id": "fancy-union",
   "metadata": {},
   "outputs": [
    {
     "data": {
      "image/png": "[encoded data removed]",
      "text/plain": [
       "<Figure size 1080x1080 with 3 Axes>"
      ]
     },
     "metadata": {
      "needs_background": "light"
     },
     "output_type": "display_data"
    }
   ],
   "source": [
    "#AVG_PRICE, UNITS_SOLD, and TOTAL_REVENUE by month:\n",
    "fig, axs = plt.subplots(3, 1, figsize=(15, 15))\n",
    "monthly_metrics['AVG_PRICE'].plot(ax=axs[0], kind='area')\n",
    "axs[0].set_xlabel('')\n",
    "axs[0].set_ylabel('AVG_PRICE')\n",
    "axs[0].set_title('Average price by month')\n",
    "monthly_metrics['UNITS_SOLD'].plot(ax=axs[1], kind='area')\n",
    "axs[1].set_xlabel('')\n",
    "axs[1].set_ylabel('UNITS_SOLD')\n",
    "axs[1].set_title('Units sold by month')\n",
    "monthly_metrics['TOTAL_REVENUE'].plot(ax=axs[2], kind='area')\n",
    "axs[2].set_xlabel('')\n",
    "axs[2].set_ylabel('TOTAL_REVENUE')\n",
    "axs[2].set_title('Total revenue by month')\n",
    "plt.show()"
   ]
  },
  {
   "cell_type": "markdown",
   "id": "4d2dc7ef",
   "metadata": {},
   "source": [
    "<br>\n",
    "<div style=\"color:green;font-size:20px;font-weight:bold\">\n",
    "    \n",
    "Number of sales and the total revenue is increasing between October and December each year\n",
    "    \n",
    "    \n",
    "</div>\n",
    "<br>"
   ]
  },
  {
   "cell_type": "code",
   "execution_count": null,
   "id": "ede66b49",
   "metadata": {},
   "outputs": [],
   "source": []
  },
  {
   "cell_type": "code",
   "execution_count": 145,
   "id": "preliminary-client",
   "metadata": {},
   "outputs": [
    {
     "data": {
      "text/plain": [
       "<matplotlib.legend.Legend at 0x2436d0801f0>"
      ]
     },
     "execution_count": 145,
     "metadata": {},
     "output_type": "execute_result"
    },
    {
     "data": {
      "image/png": "[encoded data removed]",
      "text/plain": [
       "<Figure size 1080x576 with 1 Axes>"
      ]
     },
     "metadata": {
      "needs_background": "light"
     },
     "output_type": "display_data"
    }
   ],
   "source": [
    "# Plot metrics over time\n",
    "fig, ax = plt.subplots()\n",
    "monthly_metrics.plot(ax=ax, kind='line',figsize=(15, 8))\n",
    "ax.set_xlabel('Month')\n",
    "ax.set_ylabel('Amount')\n",
    "ax.legend(loc='best')"
   ]
  },
  {
   "cell_type": "markdown",
   "id": "414f3fbb",
   "metadata": {},
   "source": [
    "## Identify the top 5 cities where the company has the highest sales and provide recommendations on how the company can increase its sales in other cities."
   ]
  },
  {
   "cell_type": "code",
   "execution_count": null,
   "id": "196f7d5b",
   "metadata": {},
   "outputs": [],
   "source": []
  },
  {
   "cell_type": "code",
   "execution_count": 150,
   "id": "innocent-probability",
   "metadata": {},
   "outputs": [
    {
     "name": "stdout",
     "output_type": "stream",
     "text": [
      "Top 5 cities with highest sales: Madrid, San Rafael, NYC, Singapore, Paris\n"
     ]
    },
    {
     "data": {
      "text/html": [
       "<div>\n",
       "<style scoped>\n",
       "    .dataframe tbody tr th:only-of-type {\n",
       "        vertical-align: middle;\n",
       "    }\n",
       "\n",
       "    .dataframe tbody tr th {\n",
       "        vertical-align: top;\n",
       "    }\n",
       "\n",
       "    .dataframe thead th {\n",
       "        text-align: right;\n",
       "    }\n",
       "</style>\n",
       "<table border=\"1\" class=\"dataframe\">\n",
       "  <thead>\n",
       "    <tr style=\"text-align: right;\">\n",
       "      <th></th>\n",
       "      <th>SALES</th>\n",
       "    </tr>\n",
       "    <tr>\n",
       "      <th>CITY</th>\n",
       "      <th></th>\n",
       "    </tr>\n",
       "  </thead>\n",
       "  <tbody>\n",
       "    <tr>\n",
       "      <th>Madrid</th>\n",
       "      <td>911769.83</td>\n",
       "    </tr>\n",
       "    <tr>\n",
       "      <th>San Rafael</th>\n",
       "      <td>647596.31</td>\n",
       "    </tr>\n",
       "    <tr>\n",
       "      <th>NYC</th>\n",
       "      <td>515430.11</td>\n",
       "    </tr>\n",
       "    <tr>\n",
       "      <th>Singapore</th>\n",
       "      <td>288488.41</td>\n",
       "    </tr>\n",
       "    <tr>\n",
       "      <th>Paris</th>\n",
       "      <td>268944.68</td>\n",
       "    </tr>\n",
       "  </tbody>\n",
       "</table>\n",
       "</div>"
      ],
      "text/plain": [
       "                SALES\n",
       "CITY                 \n",
       "Madrid      911769.83\n",
       "San Rafael  647596.31\n",
       "NYC         515430.11\n",
       "Singapore   288488.41\n",
       "Paris       268944.68"
      ]
     },
     "execution_count": 150,
     "metadata": {},
     "output_type": "execute_result"
    }
   ],
   "source": [
    "# Identify top 5 cities with highest sales\n",
    "city_metrics = df_shipped_orders.groupby('CITY').agg({'SALES': 'sum'})\n",
    "city_metrics.sort_values('SALES', ascending=False, inplace=True)\n",
    "top_cities = city_metrics.head(5).index.tolist()\n",
    "print(f'Top 5 cities with highest sales: {\", \".join(top_cities)}')\n",
    "\n",
    "# Filter dataframe to include only top 5 cities\n",
    "df_top_cities = df_shipped_orders[df_shipped_orders['CITY'].isin(top_cities)]\n",
    "city_metrics.head(5)"
   ]
  },
  {
   "cell_type": "code",
   "execution_count": 151,
   "id": "reduced-scratch",
   "metadata": {},
   "outputs": [
    {
     "data": {
      "image/png": "[encoded data removed]",
      "text/plain": [
       "<Figure size 1080x576 with 1 Axes>"
      ]
     },
     "metadata": {
      "needs_background": "light"
     },
     "output_type": "display_data"
    }
   ],
   "source": [
    "#SALES by CITY:\n",
    "city_metrics_top = df_top_cities.groupby('CITY').agg({'SALES': 'sum'})\n",
    "city_metrics_top.plot(kind='bar',figsize=(15, 8))\n",
    "plt.xlabel('CITY')\n",
    "plt.ylabel('SALES')\n",
    "plt.title('Total sales by city for top 5 cities')\n",
    "plt.show()"
   ]
  },
  {
   "cell_type": "code",
   "execution_count": 185,
   "id": "14cb347f",
   "metadata": {},
   "outputs": [
    {
     "data": {
      "text/html": [
       "<div>\n",
       "<style scoped>\n",
       "    .dataframe tbody tr th:only-of-type {\n",
       "        vertical-align: middle;\n",
       "    }\n",
       "\n",
       "    .dataframe tbody tr th {\n",
       "        vertical-align: top;\n",
       "    }\n",
       "\n",
       "    .dataframe thead th {\n",
       "        text-align: right;\n",
       "    }\n",
       "</style>\n",
       "<table border=\"1\" class=\"dataframe\">\n",
       "  <thead>\n",
       "    <tr style=\"text-align: right;\">\n",
       "      <th></th>\n",
       "      <th></th>\n",
       "      <th>ORDERNUMBER</th>\n",
       "    </tr>\n",
       "    <tr>\n",
       "      <th>STATUS</th>\n",
       "      <th>CITY</th>\n",
       "      <th></th>\n",
       "    </tr>\n",
       "  </thead>\n",
       "  <tbody>\n",
       "    <tr>\n",
       "      <th rowspan=\"4\" valign=\"top\">Cancelled</th>\n",
       "      <th>Boras</th>\n",
       "      <td>16</td>\n",
       "    </tr>\n",
       "    <tr>\n",
       "      <th>Liverpool</th>\n",
       "      <td>14</td>\n",
       "    </tr>\n",
       "    <tr>\n",
       "      <th>Madrid</th>\n",
       "      <td>16</td>\n",
       "    </tr>\n",
       "    <tr>\n",
       "      <th>NYC</th>\n",
       "      <td>14</td>\n",
       "    </tr>\n",
       "    <tr>\n",
       "      <th rowspan=\"3\" valign=\"top\">Disputed</th>\n",
       "      <th>Glen Waverly</th>\n",
       "      <td>5</td>\n",
       "    </tr>\n",
       "    <tr>\n",
       "      <th>Kobenhavn</th>\n",
       "      <td>3</td>\n",
       "    </tr>\n",
       "    <tr>\n",
       "      <th>Madrid</th>\n",
       "      <td>6</td>\n",
       "    </tr>\n",
       "    <tr>\n",
       "      <th rowspan=\"6\" valign=\"top\">In Process</th>\n",
       "      <th>Allentown</th>\n",
       "      <td>2</td>\n",
       "    </tr>\n",
       "    <tr>\n",
       "      <th>Bruxelles</th>\n",
       "      <td>5</td>\n",
       "    </tr>\n",
       "    <tr>\n",
       "      <th>Chatswood</th>\n",
       "      <td>13</td>\n",
       "    </tr>\n",
       "    <tr>\n",
       "      <th>Madrid</th>\n",
       "      <td>6</td>\n",
       "    </tr>\n",
       "    <tr>\n",
       "      <th>Nantes</th>\n",
       "      <td>13</td>\n",
       "    </tr>\n",
       "    <tr>\n",
       "      <th>San Rafael</th>\n",
       "      <td>2</td>\n",
       "    </tr>\n",
       "    <tr>\n",
       "      <th rowspan=\"4\" valign=\"top\">On Hold</th>\n",
       "      <th>Boston</th>\n",
       "      <td>14</td>\n",
       "    </tr>\n",
       "    <tr>\n",
       "      <th>Lule</th>\n",
       "      <td>6</td>\n",
       "    </tr>\n",
       "    <tr>\n",
       "      <th>Newark</th>\n",
       "      <td>12</td>\n",
       "    </tr>\n",
       "    <tr>\n",
       "      <th>San Jose</th>\n",
       "      <td>12</td>\n",
       "    </tr>\n",
       "    <tr>\n",
       "      <th rowspan=\"4\" valign=\"top\">Resolved</th>\n",
       "      <th>Graz</th>\n",
       "      <td>8</td>\n",
       "    </tr>\n",
       "    <tr>\n",
       "      <th>Kobenhavn</th>\n",
       "      <td>8</td>\n",
       "    </tr>\n",
       "    <tr>\n",
       "      <th>Madrid</th>\n",
       "      <td>18</td>\n",
       "    </tr>\n",
       "    <tr>\n",
       "      <th>Pasadena</th>\n",
       "      <td>13</td>\n",
       "    </tr>\n",
       "  </tbody>\n",
       "</table>\n",
       "</div>"
      ],
      "text/plain": [
       "                         ORDERNUMBER\n",
       "STATUS     CITY                     \n",
       "Cancelled  Boras                  16\n",
       "           Liverpool              14\n",
       "           Madrid                 16\n",
       "           NYC                    14\n",
       "Disputed   Glen Waverly            5\n",
       "           Kobenhavn               3\n",
       "           Madrid                  6\n",
       "In Process Allentown               2\n",
       "           Bruxelles               5\n",
       "           Chatswood              13\n",
       "           Madrid                  6\n",
       "           Nantes                 13\n",
       "           San Rafael              2\n",
       "On Hold    Boston                 14\n",
       "           Lule                    6\n",
       "           Newark                 12\n",
       "           San Jose               12\n",
       "Resolved   Graz                    8\n",
       "           Kobenhavn               8\n",
       "           Madrid                 18\n",
       "           Pasadena               13"
      ]
     },
     "execution_count": 185,
     "metadata": {},
     "output_type": "execute_result"
    }
   ],
   "source": [
    "df_not_shipped=df[df[\"STATUS\"]!=\"Shipped\"]\n",
    "df_test = df_not_shipped.groupby(by=[\"STATUS\",\"CITY\"]).agg({'ORDERNUMBER': 'count'})\n",
    "\n",
    "df_test"
   ]
  },
  {
   "cell_type": "markdown",
   "id": "981dc5fa",
   "metadata": {},
   "source": [
    "<br>\n",
    "<div style=\"color:green;font-size:20px;\">\n",
    "    <div style=\"font-weight:bold;\" >Cities of Glen Waverly, kobenhavn, and Madrid: </div> \n",
    "    <br>\n",
    "    <div>    there is a problem with the payment cause it has a high number of Disputed orders. Recommendation \n",
    "    add an easy payment method </div>\n",
    "    <br>\n",
    "    <div style=\"font-weight:bold\">Cities of Chatswood, Nantes: </div> \n",
    "    <br>\n",
    "    <div>  there is a high number of in process orders, recommend speeding up the process.</div>\n",
    "</div>\n",
    "<br>"
   ]
  },
  {
   "cell_type": "code",
   "execution_count": null,
   "id": "8b1b06e6",
   "metadata": {},
   "outputs": [],
   "source": []
  }
 ],
 "metadata": {
  "kernelspec": {
   "display_name": "Python 3 (ipykernel)",
   "language": "python",
   "name": "python3"
  },
  "language_info": {
   "codemirror_mode": {
    "name": "ipython",
    "version": 3
   },
   "file_extension": ".py",
   "mimetype": "text/x-python",
   "name": "python",
   "nbconvert_exporter": "python",
   "pygments_lexer": "ipython3",
   "version": "3.9.12"
  }
 },
 "nbformat": 4,
 "nbformat_minor": 5
}
